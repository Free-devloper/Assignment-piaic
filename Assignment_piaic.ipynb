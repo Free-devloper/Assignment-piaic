{
  "nbformat": 4,
  "nbformat_minor": 0,
  "metadata": {
    "colab": {
      "name": "Assignment_piaic.ipynb",
      "provenance": []
    },
    "kernelspec": {
      "name": "python3",
      "display_name": "Python 3"
    }
  },
  "cells": [
    {
      "cell_type": "markdown",
      "metadata": {
        "id": "aNuuOyFmQOAR",
        "colab_type": "text"
      },
      "source": [
        "# **Assignment Python predefined Functions**"
      ]
    },
    {
      "cell_type": "markdown",
      "metadata": {
        "id": "0PHi_hWWQ6tu",
        "colab_type": "text"
      },
      "source": [
        "### **1.Python complex() Function**\n",
        "#### The complex() function returns a complex number by specifying a real number and an imaginary number."
      ]
    },
    {
      "cell_type": "code",
      "metadata": {
        "id": "4-V4AFpuRApa",
        "colab_type": "code",
        "colab": {
          "base_uri": "https://localhost:8080/",
          "height": 34
        },
        "outputId": "95dd62e6-caa3-47b5-92ad-15eb4053beee"
      },
      "source": [
        "x = complex(3, 5)\n",
        "print(x)"
      ],
      "execution_count": 3,
      "outputs": [
        {
          "output_type": "stream",
          "text": [
            "(3+5j)\n"
          ],
          "name": "stdout"
        }
      ]
    },
    {
      "cell_type": "markdown",
      "metadata": {
        "id": "E-2jXqp7RXHC",
        "colab_type": "text"
      },
      "source": [
        "### **2.Python enumerate() Function**\n",
        "#### The **enumerate()** function takes a collection (e.g. a tuple) and returns it as an enumerate object.\n",
        "#### The **enumerate()** function adds a counter as the key of the enumerate object."
      ]
    },
    {
      "cell_type": "code",
      "metadata": {
        "id": "mWtYBDLGR1cv",
        "colab_type": "code",
        "colab": {
          "base_uri": "https://localhost:8080/",
          "height": 34
        },
        "outputId": "96ca8e5b-e0b3-4625-e025-87d584054daa"
      },
      "source": [
        "x = ('strawberry', 'blueberry', 'grapes')\n",
        "y = enumerate(x)\n",
        "\n",
        "print(list(y))\n"
      ],
      "execution_count": 4,
      "outputs": [
        {
          "output_type": "stream",
          "text": [
            "[(0, 'strawberry'), (1, 'blueberry'), (2, 'grapes')]\n"
          ],
          "name": "stdout"
        }
      ]
    },
    {
      "cell_type": "markdown",
      "metadata": {
        "id": "plmzvHxJSH_e",
        "colab_type": "text"
      },
      "source": [
        "### **3.Python frozenset() Function**\n",
        "#### The frozenset() function returns an unchangeable frozenset object (which is like a set object, only unchangeable)."
      ]
    },
    {
      "cell_type": "code",
      "metadata": {
        "id": "TIXVVenQSipr",
        "colab_type": "code",
        "colab": {
          "base_uri": "https://localhost:8080/",
          "height": 34
        },
        "outputId": "ca28c4ae-5e4e-4a14-ac92-7f3cbc35a950"
      },
      "source": [
        "list = ['strawberry', 'blueberry', 'grapes']\n",
        "x = frozenset(list)\n",
        "print(x)"
      ],
      "execution_count": 6,
      "outputs": [
        {
          "output_type": "stream",
          "text": [
            "frozenset({'blueberry', 'grapes', 'strawberry'})\n"
          ],
          "name": "stdout"
        }
      ]
    },
    {
      "cell_type": "markdown",
      "metadata": {
        "id": "DynJJZkKS--a",
        "colab_type": "text"
      },
      "source": [
        "### **4.Python isinstance() Function**\n",
        "#### The isinstance() function returns True if the specified object is of the specified type, otherwise False.\n",
        "#### If the type parameter is a tuple, this function will return True if the object is one of the types in the tuple.\n",
        "\n"
      ]
    },
    {
      "cell_type": "code",
      "metadata": {
        "id": "VORC2Q0rTZS5",
        "colab_type": "code",
        "colab": {
          "base_uri": "https://localhost:8080/",
          "height": 34
        },
        "outputId": "c86186ab-8135-4e23-c828-13f2402f6c4a"
      },
      "source": [
        "x = isinstance(5, int)\n",
        "print(x)"
      ],
      "execution_count": 7,
      "outputs": [
        {
          "output_type": "stream",
          "text": [
            "True\n"
          ],
          "name": "stdout"
        }
      ]
    },
    {
      "cell_type": "markdown",
      "metadata": {
        "id": "7w_kZZlgThFj",
        "colab_type": "text"
      },
      "source": [
        "### **5.Python setattr() Function**\n",
        "#### The setattr() function sets the value of the specified attribute of the specified object."
      ]
    },
    {
      "cell_type": "code",
      "metadata": {
        "id": "94t0QiDzT8Xi",
        "colab_type": "code",
        "colab": {
          "base_uri": "https://localhost:8080/",
          "height": 51
        },
        "outputId": "1f802744-cc5d-4e8e-a008-68be67f85b33"
      },
      "source": [
        "class Person:\n",
        "  name = \"Rehan\"\n",
        "  age = 36\n",
        "  country = \"USA\"\n",
        "setattr(Person, 'country',\"Pakistan\")\n",
        "setattr(Person, 'age',21)\n",
        "\n",
        "# The age property will now have the value: 40\n",
        "x=getattr(Person,'country')\n",
        "y = getattr(Person, 'age')\n",
        "print(x)\n",
        "print(y)\n",
        "\n"
      ],
      "execution_count": 8,
      "outputs": [
        {
          "output_type": "stream",
          "text": [
            "Pakistan\n",
            "21\n"
          ],
          "name": "stdout"
        }
      ]
    }
  ]
}